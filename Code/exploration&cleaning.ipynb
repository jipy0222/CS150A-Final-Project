{
 "cells": [
  {
   "cell_type": "code",
   "execution_count": 1,
   "metadata": {},
   "outputs": [],
   "source": [
    "import matplotlib.pyplot as plt\n",
    "import pandas as pd\n",
    "import numpy as np\n",
    "import math"
   ]
  },
  {
   "cell_type": "code",
   "execution_count": 2,
   "metadata": {},
   "outputs": [],
   "source": [
    "train_loc = 'data/train.csv'\n",
    "test_loc = 'data/test.csv'\n",
    "\n",
    "train = pd.read_csv(train_loc, sep='\\t')\n",
    "test = pd.read_csv(test_loc, sep='\\t')"
   ]
  },
  {
   "cell_type": "code",
   "execution_count": 7,
   "metadata": {},
   "outputs": [
    {
     "data": {
      "text/html": [
       "<div>\n",
       "<style scoped>\n",
       "    .dataframe tbody tr th:only-of-type {\n",
       "        vertical-align: middle;\n",
       "    }\n",
       "\n",
       "    .dataframe tbody tr th {\n",
       "        vertical-align: top;\n",
       "    }\n",
       "\n",
       "    .dataframe thead th {\n",
       "        text-align: right;\n",
       "    }\n",
       "</style>\n",
       "<table border=\"1\" class=\"dataframe\">\n",
       "  <thead>\n",
       "    <tr style=\"text-align: right;\">\n",
       "      <th></th>\n",
       "      <th>Row</th>\n",
       "      <th>Problem View</th>\n",
       "      <th>Step Start Time</th>\n",
       "      <th>First Transaction Time</th>\n",
       "      <th>Correct Transaction Time</th>\n",
       "      <th>Step End Time</th>\n",
       "      <th>Step Duration (sec)</th>\n",
       "      <th>Correct Step Duration (sec)</th>\n",
       "      <th>Error Step Duration (sec)</th>\n",
       "      <th>Correct First Attempt</th>\n",
       "      <th>Incorrects</th>\n",
       "      <th>Hints</th>\n",
       "      <th>Corrects</th>\n",
       "    </tr>\n",
       "  </thead>\n",
       "  <tbody>\n",
       "    <tr>\n",
       "      <th>count</th>\n",
       "      <td>1.140000e+03</td>\n",
       "      <td>1140.000000</td>\n",
       "      <td>0.0</td>\n",
       "      <td>0.0</td>\n",
       "      <td>0.0</td>\n",
       "      <td>0.0</td>\n",
       "      <td>0.0</td>\n",
       "      <td>0.0</td>\n",
       "      <td>0.0</td>\n",
       "      <td>666.000000</td>\n",
       "      <td>0.0</td>\n",
       "      <td>0.0</td>\n",
       "      <td>0.0</td>\n",
       "    </tr>\n",
       "    <tr>\n",
       "      <th>mean</th>\n",
       "      <td>5.941387e+05</td>\n",
       "      <td>1.544737</td>\n",
       "      <td>NaN</td>\n",
       "      <td>NaN</td>\n",
       "      <td>NaN</td>\n",
       "      <td>NaN</td>\n",
       "      <td>NaN</td>\n",
       "      <td>NaN</td>\n",
       "      <td>NaN</td>\n",
       "      <td>0.810811</td>\n",
       "      <td>NaN</td>\n",
       "      <td>NaN</td>\n",
       "      <td>NaN</td>\n",
       "    </tr>\n",
       "    <tr>\n",
       "      <th>std</th>\n",
       "      <td>3.211333e+05</td>\n",
       "      <td>1.425566</td>\n",
       "      <td>NaN</td>\n",
       "      <td>NaN</td>\n",
       "      <td>NaN</td>\n",
       "      <td>NaN</td>\n",
       "      <td>NaN</td>\n",
       "      <td>NaN</td>\n",
       "      <td>NaN</td>\n",
       "      <td>0.391953</td>\n",
       "      <td>NaN</td>\n",
       "      <td>NaN</td>\n",
       "      <td>NaN</td>\n",
       "    </tr>\n",
       "    <tr>\n",
       "      <th>min</th>\n",
       "      <td>1.003900e+04</td>\n",
       "      <td>1.000000</td>\n",
       "      <td>NaN</td>\n",
       "      <td>NaN</td>\n",
       "      <td>NaN</td>\n",
       "      <td>NaN</td>\n",
       "      <td>NaN</td>\n",
       "      <td>NaN</td>\n",
       "      <td>NaN</td>\n",
       "      <td>0.000000</td>\n",
       "      <td>NaN</td>\n",
       "      <td>NaN</td>\n",
       "      <td>NaN</td>\n",
       "    </tr>\n",
       "    <tr>\n",
       "      <th>25%</th>\n",
       "      <td>3.164400e+05</td>\n",
       "      <td>1.000000</td>\n",
       "      <td>NaN</td>\n",
       "      <td>NaN</td>\n",
       "      <td>NaN</td>\n",
       "      <td>NaN</td>\n",
       "      <td>NaN</td>\n",
       "      <td>NaN</td>\n",
       "      <td>NaN</td>\n",
       "      <td>1.000000</td>\n",
       "      <td>NaN</td>\n",
       "      <td>NaN</td>\n",
       "      <td>NaN</td>\n",
       "    </tr>\n",
       "    <tr>\n",
       "      <th>50%</th>\n",
       "      <td>5.853410e+05</td>\n",
       "      <td>1.000000</td>\n",
       "      <td>NaN</td>\n",
       "      <td>NaN</td>\n",
       "      <td>NaN</td>\n",
       "      <td>NaN</td>\n",
       "      <td>NaN</td>\n",
       "      <td>NaN</td>\n",
       "      <td>NaN</td>\n",
       "      <td>1.000000</td>\n",
       "      <td>NaN</td>\n",
       "      <td>NaN</td>\n",
       "      <td>NaN</td>\n",
       "    </tr>\n",
       "    <tr>\n",
       "      <th>75%</th>\n",
       "      <td>8.847702e+05</td>\n",
       "      <td>1.000000</td>\n",
       "      <td>NaN</td>\n",
       "      <td>NaN</td>\n",
       "      <td>NaN</td>\n",
       "      <td>NaN</td>\n",
       "      <td>NaN</td>\n",
       "      <td>NaN</td>\n",
       "      <td>NaN</td>\n",
       "      <td>1.000000</td>\n",
       "      <td>NaN</td>\n",
       "      <td>NaN</td>\n",
       "      <td>NaN</td>\n",
       "    </tr>\n",
       "    <tr>\n",
       "      <th>max</th>\n",
       "      <td>1.078861e+06</td>\n",
       "      <td>19.000000</td>\n",
       "      <td>NaN</td>\n",
       "      <td>NaN</td>\n",
       "      <td>NaN</td>\n",
       "      <td>NaN</td>\n",
       "      <td>NaN</td>\n",
       "      <td>NaN</td>\n",
       "      <td>NaN</td>\n",
       "      <td>1.000000</td>\n",
       "      <td>NaN</td>\n",
       "      <td>NaN</td>\n",
       "      <td>NaN</td>\n",
       "    </tr>\n",
       "  </tbody>\n",
       "</table>\n",
       "</div>"
      ],
      "text/plain": [
       "                Row  Problem View  Step Start Time  First Transaction Time  \\\n",
       "count  1.140000e+03   1140.000000              0.0                     0.0   \n",
       "mean   5.941387e+05      1.544737              NaN                     NaN   \n",
       "std    3.211333e+05      1.425566              NaN                     NaN   \n",
       "min    1.003900e+04      1.000000              NaN                     NaN   \n",
       "25%    3.164400e+05      1.000000              NaN                     NaN   \n",
       "50%    5.853410e+05      1.000000              NaN                     NaN   \n",
       "75%    8.847702e+05      1.000000              NaN                     NaN   \n",
       "max    1.078861e+06     19.000000              NaN                     NaN   \n",
       "\n",
       "       Correct Transaction Time  Step End Time  Step Duration (sec)  \\\n",
       "count                       0.0            0.0                  0.0   \n",
       "mean                        NaN            NaN                  NaN   \n",
       "std                         NaN            NaN                  NaN   \n",
       "min                         NaN            NaN                  NaN   \n",
       "25%                         NaN            NaN                  NaN   \n",
       "50%                         NaN            NaN                  NaN   \n",
       "75%                         NaN            NaN                  NaN   \n",
       "max                         NaN            NaN                  NaN   \n",
       "\n",
       "       Correct Step Duration (sec)  Error Step Duration (sec)  \\\n",
       "count                          0.0                        0.0   \n",
       "mean                           NaN                        NaN   \n",
       "std                            NaN                        NaN   \n",
       "min                            NaN                        NaN   \n",
       "25%                            NaN                        NaN   \n",
       "50%                            NaN                        NaN   \n",
       "75%                            NaN                        NaN   \n",
       "max                            NaN                        NaN   \n",
       "\n",
       "       Correct First Attempt  Incorrects  Hints  Corrects  \n",
       "count             666.000000         0.0    0.0       0.0  \n",
       "mean                0.810811         NaN    NaN       NaN  \n",
       "std                 0.391953         NaN    NaN       NaN  \n",
       "min                 0.000000         NaN    NaN       NaN  \n",
       "25%                 1.000000         NaN    NaN       NaN  \n",
       "50%                 1.000000         NaN    NaN       NaN  \n",
       "75%                 1.000000         NaN    NaN       NaN  \n",
       "max                 1.000000         NaN    NaN       NaN  "
      ]
     },
     "execution_count": 7,
     "metadata": {},
     "output_type": "execute_result"
    }
   ],
   "source": [
    "train.describe()\n",
    "test.describe()"
   ]
  },
  {
   "cell_type": "code",
   "execution_count": 4,
   "metadata": {},
   "outputs": [],
   "source": [
    "important_cols = ['Anon Student Id',\\\n",
    "    'Problem Name','Problem View', 'Step Name', 'Step Start Time',\\\n",
    "        'First Transaction Time', 'Correct Transaction Time','Step End Time',\\\n",
    "            'Step Duration (sec)', 'Correct Step Duration (sec)',\\\n",
    "                'Error Step Duration (sec)','Correct First Attempt', 'Incorrects',\\\n",
    "                     'Hints', 'Corrects', 'KC(Default)', 'Opportunity(Default)']\n",
    "datatype = {}\n",
    "for col in train.columns:\n",
    "    datatype[col] = train[col].dtype\n",
    "\n",
    "num_of_students = len(np.unique(train['Anon Student Id']))\n",
    "num_of_steps = len(np.unique(train[['Problem Name','Step Name']]))"
   ]
  },
  {
   "cell_type": "code",
   "execution_count": 8,
   "metadata": {},
   "outputs": [
    {
     "name": "stdout",
     "output_type": "stream",
     "text": [
      "count    181599.000000\n",
      "mean         17.924024\n",
      "std          35.179534\n",
      "min           0.000000\n",
      "25%           5.000000\n",
      "50%           8.000000\n",
      "75%          17.000000\n",
      "max        1067.000000\n",
      "Name: Correct Step Duration (sec), dtype: float64\n"
     ]
    },
    {
     "data": {
      "image/png": "[encoded data removed]",
      "text/plain": [
       "<Figure size 432x288 with 1 Axes>"
      ]
     },
     "metadata": {
      "needs_background": "light"
     },
     "output_type": "display_data"
    }
   ],
   "source": [
    "csd1 = train['Correct Step Duration (sec)']\n",
    "print(csd1.describe())\n",
    "hist = plt.hist(np.array(csd1.dropna()),bins=100,density=True,log=False,range=(0,100))\n",
    "plt.xlabel('Time to correct answer (sec)')\n",
    "plt.ylabel('Fraction')\n",
    "plt.show()"
   ]
  },
  {
   "cell_type": "code",
   "execution_count": 9,
   "metadata": {},
   "outputs": [
    {
     "name": "stdout",
     "output_type": "stream",
     "text": [
      "count    50853.000000\n",
      "mean        60.547204\n",
      "std         89.287960\n",
      "min          0.000000\n",
      "25%         16.000000\n",
      "50%         32.000000\n",
      "75%         67.000000\n",
      "max       1888.000000\n",
      "Name: Error Step Duration (sec), dtype: float64\n"
     ]
    },
    {
     "data": {
      "image/png": "[encoded data removed]",
      "text/plain": [
       "<Figure size 432x288 with 1 Axes>"
      ]
     },
     "metadata": {
      "needs_background": "light"
     },
     "output_type": "display_data"
    }
   ],
   "source": [
    "csd2 = train['Error Step Duration (sec)']\n",
    "print(csd2.describe())\n",
    "hist = plt.hist(np.array(csd2.dropna()),bins=200,density=True,log=False,range=(0,200))\n",
    "plt.xlabel('Time to incorrect answer (sec)')\n",
    "plt.ylabel('Fraction')\n",
    "plt.show()"
   ]
  },
  {
   "cell_type": "code",
   "execution_count": 14,
   "metadata": {},
   "outputs": [
    {
     "name": "stdout",
     "output_type": "stream",
     "text": [
      "count    232744.000000\n",
      "mean          0.780935\n",
      "std           0.413613\n",
      "min           0.000000\n",
      "25%           1.000000\n",
      "50%           1.000000\n",
      "75%           1.000000\n",
      "max           1.000000\n",
      "Name: Correct First Attempt, dtype: float64\n"
     ]
    },
    {
     "data": {
      "image/png": "[encoded data removed]",
      "text/plain": [
       "<Figure size 432x288 with 1 Axes>"
      ]
     },
     "metadata": {
      "needs_background": "light"
     },
     "output_type": "display_data"
    }
   ],
   "source": [
    "csd3 = train['Correct First Attempt']\n",
    "print(csd3.describe())\n",
    "hist = plt.hist(np.array(csd3.dropna()),bins=2,density=True,log=False,range=(0,2))\n",
    "plt.xlabel('Correct First Attempt')\n",
    "plt.ylabel('Fraction')\n",
    "plt.show()"
   ]
  },
  {
   "cell_type": "code",
   "execution_count": 18,
   "metadata": {},
   "outputs": [
    {
     "name": "stdout",
     "output_type": "stream",
     "text": [
      "count    232744.000000\n",
      "mean          1.602838\n",
      "std           1.515546\n",
      "min           1.000000\n",
      "25%           1.000000\n",
      "50%           1.000000\n",
      "75%           2.000000\n",
      "max          21.000000\n",
      "Name: Problem View, dtype: float64\n"
     ]
    },
    {
     "data": {
      "image/png": "[encoded data removed]",
      "text/plain": [
       "<Figure size 432x288 with 1 Axes>"
      ]
     },
     "metadata": {
      "needs_background": "light"
     },
     "output_type": "display_data"
    }
   ],
   "source": [
    "csd4 = train['Problem View']\n",
    "print(csd4.describe())\n",
    "hist = plt.hist(np.array(csd4.dropna()),bins=15,density=True,log=False,range=(0,22))\n",
    "plt.xlabel('Problem View')\n",
    "plt.ylabel('Fraction')\n",
    "plt.show()"
   ]
  },
  {
   "cell_type": "code",
   "execution_count": 20,
   "metadata": {},
   "outputs": [
    {
     "name": "stdout",
     "output_type": "stream",
     "text": [
      "Row                                 0\n",
      "Anon Student Id                     0\n",
      "Problem Hierarchy                   0\n",
      "Problem Name                        0\n",
      "Problem View                        0\n",
      "Step Name                           0\n",
      "Step Start Time                   292\n",
      "First Transaction Time              0\n",
      "Correct Transaction Time         7034\n",
      "Step End Time                       0\n",
      "Step Duration (sec)               292\n",
      "Correct Step Duration (sec)     51145\n",
      "Error Step Duration (sec)      181891\n",
      "Correct First Attempt               0\n",
      "Incorrects                          0\n",
      "Hints                               0\n",
      "Corrects                            0\n",
      "KC(Default)                     59255\n",
      "Opportunity(Default)            59255\n",
      "dtype: int64 Row                               0\n",
      "Anon Student Id                   0\n",
      "Problem Hierarchy                 0\n",
      "Problem Name                      0\n",
      "Problem View                      0\n",
      "Step Name                         0\n",
      "Step Start Time                1140\n",
      "First Transaction Time         1140\n",
      "Correct Transaction Time       1140\n",
      "Step End Time                  1140\n",
      "Step Duration (sec)            1140\n",
      "Correct Step Duration (sec)    1140\n",
      "Error Step Duration (sec)      1140\n",
      "Correct First Attempt           474\n",
      "Incorrects                     1140\n",
      "Hints                          1140\n",
      "Corrects                       1140\n",
      "KC(Default)                     294\n",
      "Opportunity(Default)            294\n",
      "dtype: int64\n"
     ]
    }
   ],
   "source": [
    "check_nan_train = train.isna().sum()\n",
    "check_nan_test = test.isna().sum()\n",
    "print(check_nan_train,check_nan_test)"
   ]
  },
  {
   "cell_type": "code",
   "execution_count": 23,
   "metadata": {},
   "outputs": [
    {
     "name": "stdout",
     "output_type": "stream",
     "text": [
      "False False\n"
     ]
    }
   ],
   "source": [
    "check_unique_train_spe = train.duplicated(subset=['Anon Student Id','Problem Name','Step Name','Problem View','Step Duration (sec)']).any()\n",
    "check_unique_test_spe = test.duplicated(subset=['Anon Student Id','Problem Name','Step Name','Problem View','Step Duration (sec)']).any()\n",
    "print(check_unique_train_spe, check_unique_test_spe)"
   ]
  },
  {
   "cell_type": "code",
   "execution_count": 25,
   "metadata": {},
   "outputs": [
    {
     "name": "stdout",
     "output_type": "stream",
     "text": [
      "True True\n"
     ]
    }
   ],
   "source": [
    "check_unique_train = len(train.drop_duplicates()) == len(train)\n",
    "check_unique_test = len(test.drop_duplicates()) == len(test)\n",
    "print(check_unique_train,check_unique_test)"
   ]
  },
  {
   "cell_type": "code",
   "execution_count": 26,
   "metadata": {},
   "outputs": [],
   "source": [
    "cols = train.columns\n",
    "'''cols = ['Row', 'Anon Student Id', 'Problem Hierarchy',\\\n",
    "    'Problem Name','Problem View', 'Step Name', 'Step Start Time',\\\n",
    "        'First Transaction Time', 'Correct Transaction Time','Step End Time',\\\n",
    "            'Step Duration (sec)', 'Correct Step Duration (sec)',\\\n",
    "                'Error Step Duration (sec)','Correct First Attempt', 'Incorrects',\\\n",
    "                     'Hints', 'Corrects', 'KC(Default)', 'Opportunity(Default)']'''\n",
    "col_with_numerical_type = []\n",
    "for col in cols:\n",
    "    if train[col].dtype != 'object':\n",
    "        col_with_numerical_type.append(col)\n",
    "col_with_numerical_type.remove('Row')\n",
    "'''col_with_numerical_type = ['Problem View','Step Duration (sec)', \\\n",
    "    'Correct Step Duration (sec)','Error Step Duration (sec)',\\\n",
    "        'Correct First Attempt', 'Incorrects','Hints', 'Corrects']'''\n",
    "for col in col_with_numerical_type:\n",
    "    tempmin = train[col][0]\n",
    "    tempmax = train[col][0]\n",
    "    for index,row in train.iterrows():\n",
    "        if row[col] > tempmax:\n",
    "            if row[col] - tempmax > 500:\n",
    "                print(col,row[col],tempmax,'error')\n",
    "            tempmax = row[col]\n",
    "        elif tempmin > row[col]:\n",
    "            if tempmin - row[col] > 500:\n",
    "                print(col,row[col],tempmin,'error')\n",
    "            tempmin = row[col]\n",
    "for col in col_with_numerical_type:\n",
    "    tempmin = train[col][0]\n",
    "    tempmax = train[col][0]\n",
    "    for index,row in test.iterrows():\n",
    "        if not math.isnan(row[col]):\n",
    "            if row[col] > tempmax:\n",
    "                if row[col] - tempmax > 500:\n",
    "                    print(col,row[col],tempmax,'error')\n",
    "                tempmax = row[col]\n",
    "            elif tempmin > row[col]:\n",
    "                if tempmin - row[col] > 500:\n",
    "                    print(col,row[col],tempmin,'error')\n",
    "                tempmin = row[col]"
   ]
  },
  {
   "cell_type": "code",
   "execution_count": null,
   "metadata": {},
   "outputs": [],
   "source": []
  }
 ],
 "metadata": {
  "kernelspec": {
   "display_name": "Python 3",
   "language": "python",
   "name": "python3"
  },
  "language_info": {
   "codemirror_mode": {
    "name": "ipython",
    "version": 3
   },
   "file_extension": ".py",
   "mimetype": "text/x-python",
   "name": "python",
   "nbconvert_exporter": "python",
   "pygments_lexer": "ipython3",
   "version": "3.7.4"
  }
 },
 "nbformat": 4,
 "nbformat_minor": 2
}
